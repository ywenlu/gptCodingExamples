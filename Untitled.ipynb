{
 "cells": [
  {
   "cell_type": "code",
   "execution_count": 6,
   "metadata": {},
   "outputs": [
    {
     "name": "stdout",
     "output_type": "stream",
     "text": [
      "day: 15, month: août, year: 1990\n"
     ]
    }
   ],
   "source": [
    "import re\n",
    "text = \"Mon anniversaire est le 15 août 1990\"\n",
    "pattern = r\"(?P<day>\\d{1,2})\\s*(?:er)?\\s*(?P<month>janvier|février|mars|avril|mai|juin|juillet|août|septembre|octobre|novembre|décembre|\\d{1,2})\\s*(?P<year>\\d{4})\"\n",
    "match = re.search(pattern, text, re.IGNORECASE)\n",
    "if match:\n",
    "    day = match.group(\"day\")\n",
    "    month = match.group(\"month\")\n",
    "    year = match.group(\"year\")\n",
    "    # convert month to number\n",
    "    print(f\"day: {day}, month: {month}, year: {year}\")\n",
    "\n",
    "    if month.isdigit():\n",
    "            month = int(month)\n",
    "    else:\n",
    "        month = {\n",
    "            \"janvier\": 1,\n",
    "            \"février\": 2,\n",
    "            \"mars\": 3,\n",
    "            \"avril\": 4,\n",
    "            \"mai\": 5,\n",
    "            \"juin\": 6,\n",
    "            \"juillet\": 7,\n",
    "            \"août\": 8,\n",
    "            \"septembre\": 9,\n",
    "            \"octobre\": 10,\n",
    "            \"novembre\": 11,\n",
    "            \"décembre\": 12\n",
    "        }[month.lower()]"
   ]
  },
  {
   "cell_type": "code",
   "execution_count": 16,
   "metadata": {},
   "outputs": [
    {
     "ename": "ModuleNotFoundError",
     "evalue": "No module named 'spacy'",
     "output_type": "error",
     "traceback": [
      "\u001b[1;31m---------------------------------------------------------------------------\u001b[0m",
      "\u001b[1;31mModuleNotFoundError\u001b[0m                       Traceback (most recent call last)",
      "\u001b[1;32m<ipython-input-16-510d56670d86>\u001b[0m in \u001b[0;36m<module>\u001b[1;34m\u001b[0m\n\u001b[1;32m----> 1\u001b[1;33m \u001b[1;32mimport\u001b[0m \u001b[0mspacy\u001b[0m\u001b[1;33m\u001b[0m\u001b[1;33m\u001b[0m\u001b[0m\n\u001b[0m\u001b[0;32m      2\u001b[0m \u001b[1;32mfrom\u001b[0m \u001b[0mspacy\u001b[0m\u001b[1;33m.\u001b[0m\u001b[0mtraining\u001b[0m \u001b[1;32mimport\u001b[0m \u001b[0mExample\u001b[0m\u001b[1;33m\u001b[0m\u001b[1;33m\u001b[0m\u001b[0m\n\u001b[0;32m      3\u001b[0m \u001b[1;32mfrom\u001b[0m \u001b[0mspacy\u001b[0m\u001b[1;33m.\u001b[0m\u001b[0mutil\u001b[0m \u001b[1;32mimport\u001b[0m \u001b[0mminibatch\u001b[0m\u001b[1;33m,\u001b[0m \u001b[0mcompounding\u001b[0m\u001b[1;33m\u001b[0m\u001b[1;33m\u001b[0m\u001b[0m\n\u001b[0;32m      4\u001b[0m \u001b[1;33m\u001b[0m\u001b[0m\n\u001b[0;32m      5\u001b[0m \u001b[0mnlp\u001b[0m \u001b[1;33m=\u001b[0m \u001b[0mspacy\u001b[0m\u001b[1;33m.\u001b[0m\u001b[0mblank\u001b[0m\u001b[1;33m(\u001b[0m\u001b[1;34m\"en\"\u001b[0m\u001b[1;33m)\u001b[0m\u001b[1;33m\u001b[0m\u001b[1;33m\u001b[0m\u001b[0m\n",
      "\u001b[1;31mModuleNotFoundError\u001b[0m: No module named 'spacy'"
     ]
    }
   ],
   "source": [
    "import spacy\n",
    "from spacy.training import Example\n",
    "from spacy.util import minibatch, compounding\n",
    "\n",
    "nlp = spacy.blank(\"en\")\n",
    "ner = nlp.add_pipe(\"ner\")\n",
    "\n",
    "ner.add_label(\"NAME\")\n",
    "ner.add_label(\"DOB\")\n",
    "ner.add_label(\"ADDRESS\")\n",
    "\n",
    "train_data = [\n",
    "    (\"John Smith was born on 01/01/1990 and lives at 123 Main St.\", {\"entities\": [(0, 10, \"NAME\"), (24, 34, \"DOB\"), (43, 57, \"ADDRESS\")]}),\n",
    "    (\"Jane Doe lives at 456 Oak Ave and was born on 02/02/1980.\", {\"entities\": [(0, 8, \"NAME\"), (38, 48, \"DOB\"), (16, 28, \"ADDRESS\")]}),\n",
    "    (\"Mary Johnson was born on 03/03/1970 and lives at 789 Maple Rd.\", {\"entities\": [(0, 13, \"NAME\"), (27, 37, \"DOB\"), (43, 56, \"ADDRESS\")]}),\n",
    "]\n",
    "\n",
    "n_iter = 10\n",
    "optimizer = nlp.begin_training()\n",
    "\n",
    "for i in range(n_iter):\n",
    "    losses = {}\n",
    "    batches = minibatch(train_data, size=compounding(4.0, 32.0, 1.001))\n",
    "    for batch in batches:\n",
    "        texts, annotations = zip(*batch)\n",
    "        examples = []\n",
    "        for i in range(len(texts)):\n",
    "            examples.append(Example.from_dict(nlp.make_doc(texts[i]), annotations[i]))\n",
    "        nlp.update(examples, sgd=optimizer, losses=losses)\n",
    "    print(losses)\n",
    "\n",
    "doc = nlp(\"John Smith was born on 01/01/1990 and lives at 123 Main St.\")\n",
    "print([(ent.text, ent.label_) for ent in doc.ents])\n"
   ]
  },
  {
   "cell_type": "code",
   "execution_count": null,
   "metadata": {},
   "outputs": [],
   "source": []
  }
 ],
 "metadata": {
  "kernelspec": {
   "display_name": "Python 3",
   "language": "python",
   "name": "python3"
  },
  "language_info": {
   "codemirror_mode": {
    "name": "ipython",
    "version": 3
   },
   "file_extension": ".py",
   "mimetype": "text/x-python",
   "name": "python",
   "nbconvert_exporter": "python",
   "pygments_lexer": "ipython3",
   "version": "3.8.5"
  },
  "toc": {
   "base_numbering": 1,
   "nav_menu": {},
   "number_sections": true,
   "sideBar": true,
   "skip_h1_title": false,
   "title_cell": "Table of Contents",
   "title_sidebar": "Contents",
   "toc_cell": false,
   "toc_position": {},
   "toc_section_display": true,
   "toc_window_display": false
  }
 },
 "nbformat": 4,
 "nbformat_minor": 4
}
